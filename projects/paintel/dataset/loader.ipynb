{
 "cells": [
  {
   "cell_type": "markdown",
   "id": "f419465d-1499-4240-bf2c-a83c9ea8acfc",
   "metadata": {},
   "source": [
    "# データセットの読み込み"
   ]
  },
  {
   "cell_type": "markdown",
   "id": "053d18ae-0434-44ce-b1d8-6768aeb61dcf",
   "metadata": {},
   "source": [
    "## ライブラリを読み込む"
   ]
  },
  {
   "cell_type": "code",
   "execution_count": null,
   "id": "dff29791-9909-45f6-9b50-edf69f165db8",
   "metadata": {},
   "outputs": [],
   "source": [
    "from __future__ import annotations\n",
    "\n",
    "import os\n",
    "import re\n",
    "import sqlite3\n",
    "import urllib\n",
    "\n",
    "import pandas as pd\n",
    "from pandas import DataFrame"
   ]
  },
  {
   "cell_type": "markdown",
   "id": "6e30fba2-a0dd-4aca-9651-30513a49eb46",
   "metadata": {},
   "source": [
    "## データセットディレクトリの確定"
   ]
  },
  {
   "cell_type": "code",
   "execution_count": null,
   "id": "200fc019-1a5f-4d3a-892d-ecc2ba1689eb",
   "metadata": {},
   "outputs": [],
   "source": [
    "!mkdir /dataset/paintel"
   ]
  },
  {
   "cell_type": "code",
   "execution_count": null,
   "id": "4ef5e9b0-148e-45b4-bda4-ffde5f4bfd13",
   "metadata": {},
   "outputs": [],
   "source": [
    "DATASET_DIR = \"/dataset/paintel\"\n",
    "PANDAS_AUTHORS = f\"{DATASET_DIR}/authors.csv\"\n",
    "PANDAS_TWEETS = f\"{DATASET_DIR}/tweets.csv\"\n",
    "PANDAS_IMAGES = f\"{DATASET_DIR}/images.csv\""
   ]
  },
  {
   "cell_type": "markdown",
   "id": "1c3d38bc-905b-4eae-ab4b-2cd7ea04f14e",
   "metadata": {},
   "source": [
    "### データベースの読み込み"
   ]
  },
  {
   "cell_type": "markdown",
   "id": "1e04e8fd-6386-49d1-a609-9fb282ea9151",
   "metadata": {},
   "source": [
    "作成するテーブルは以下のとおりである．\n",
    "\n",
    "| テーブル名 | 内容 | 依存先 |\n",
    "| :-: | :-- | :-- |\n",
    "| tweets | ツイート内容に関するテーブル | `authors` |\n",
    "| images | 画像に関するテーブル | `tweets` |\n",
    "| authors | 制作者（Twitterユーザー）に関するテーブル | 最上位 |"
   ]
  },
  {
   "cell_type": "code",
   "execution_count": null,
   "id": "e0242839-6e5f-452d-91c8-0f2e92333c1b",
   "metadata": {},
   "outputs": [],
   "source": [
    "authors, tweets, images = None, None, None\n",
    "\n",
    "if os.path.exists(PANDAS_AUTHORS) == False or os.path.exists(\n",
    "        PANDAS_TWEETS) == False or os.path.exists(PANDAS_IMAGES) == False:\n",
    "    authors = DataFrame(columns=[\"id\", \"name\", \"followers\"])\n",
    "    tweets = DataFrame(columns=[\"id\", \"author_id\", \"content\"])\n",
    "    images = DataFrame(columns=[\"id\", \"tweet_id\", \"url\", \"filepath\"])\n",
    "else:\n",
    "    authors = pd.read_csv(PANDAS_AUTHORS)\n",
    "    tweets = pd.read_csv(PANDAS_TWEETS)\n",
    "    images = pd.read_csv(PANDAS_IMAGES)"
   ]
  },
  {
   "cell_type": "markdown",
   "id": "7f5b3c0a-2cc0-4588-ab8d-2a27a5f5f872",
   "metadata": {},
   "source": [
    "## 関数の定義"
   ]
  },
  {
   "cell_type": "markdown",
   "id": "855433ff-7cdc-4eb6-8745-0cc3a465715c",
   "metadata": {},
   "source": [
    "### ツイートの登録"
   ]
  },
  {
   "cell_type": "code",
   "execution_count": null,
   "id": "020c1764-a582-46c2-9c03-cc0fe6abeb34",
   "metadata": {},
   "outputs": [],
   "source": [
    "def register_tweet(author_id: str, author_name: str, author_followers: int,\n",
    "                   tweet_id: str, tweet_content: str, image_id: str,\n",
    "                   image_url: list[str]):\n",
    "\n",
    "    global tweets\n",
    "    global authors\n",
    "    global images\n",
    "\n",
    "    # register tweet\n",
    "    if (tweets[\"id\"] == tweet_id).sum() > 0:\n",
    "        return\n",
    "    else:\n",
    "        tweets = pd.concat([\n",
    "            tweets,\n",
    "            DataFrame([{\n",
    "                \"id\": tweet_id,\n",
    "                \"author_id\": author_id,\n",
    "                \"content\": tweet_content,\n",
    "            }])\n",
    "        ])\n",
    "\n",
    "    # register author\n",
    "    if (authors[\"id\"] == author_id).sum() > 0:\n",
    "        authors[authors[\"id\"] == author_id][\"name\"] = author_name\n",
    "        authors[authors[\"id\"] == author_id][\"follwers\"] = author_followers\n",
    "    else:\n",
    "        authors = pd.concat([\n",
    "            authors,\n",
    "            DataFrame([{\n",
    "                \"id\": author_id,\n",
    "                \"name\": author_name,\n",
    "                \"followers\": author_followers,\n",
    "            }])\n",
    "        ])\n",
    "\n",
    "    # save and register images\n",
    "    for url in image_url:\n",
    "        path = f\"{DATASET_DIR}/images/{tweet_id}/{re.findall(r'[^/]+$', url)[0]}\"\n",
    "        urllib.request.urlretrieve(url, path)\n",
    "        images = pd.concat([\n",
    "            images,\n",
    "            DataFrame([{\n",
    "                \"id\": image_id,\n",
    "                \"tweet_id\": tweet_id,\n",
    "                \"url\": url,\n",
    "                \"filepath\": path,\n",
    "            }])\n",
    "        ])"
   ]
  },
  {
   "cell_type": "markdown",
   "id": "85cbb040-329d-4495-91ce-3364907ec4f6",
   "metadata": {},
   "source": [
    "### TODO: 特定のツイートの画像データを列挙"
   ]
  },
  {
   "cell_type": "code",
   "execution_count": null,
   "id": "215cde74-5f17-4619-9a9f-52694a30b936",
   "metadata": {},
   "outputs": [],
   "source": [
    "images"
   ]
  }
 ],
 "metadata": {
  "kernelspec": {
   "display_name": "Python 3 (ipykernel)",
   "language": "python",
   "name": "python3"
  },
  "language_info": {
   "codemirror_mode": {
    "name": "ipython",
    "version": 3
   },
   "file_extension": ".py",
   "mimetype": "text/x-python",
   "name": "python",
   "nbconvert_exporter": "python",
   "pygments_lexer": "ipython3",
   "version": "3.8.10"
  }
 },
 "nbformat": 4,
 "nbformat_minor": 5
}
