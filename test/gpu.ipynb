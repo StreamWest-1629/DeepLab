{
 "cells": [
  {
   "cell_type": "markdown",
   "id": "66522a67",
   "metadata": {},
   "source": [
    "# GPU情報の確認"
   ]
  },
  {
   "cell_type": "markdown",
   "id": "c57a1cc8",
   "metadata": {},
   "source": [
    "パッケージを追加し，CUDAが使えるかどうかを確認する"
   ]
  },
  {
   "cell_type": "code",
   "execution_count": 3,
   "id": "f9395987",
   "metadata": {},
   "outputs": [
    {
     "name": "stdout",
     "output_type": "stream",
     "text": [
      "cuda is available: True\n",
      "a\n"
     ]
    }
   ],
   "source": [
    "import torch\n",
    "\n",
    "print(f\"cuda is available: {torch.cuda.is_available()}\")\n",
    "print(\"a\")"
   ]
  },
  {
   "cell_type": "markdown",
   "id": "f542ae90",
   "metadata": {},
   "source": [
    "GPUデバイスの数と現在のデバイスを確認する"
   ]
  },
  {
   "cell_type": "code",
   "execution_count": null,
   "id": "58d6b0e3",
   "metadata": {},
   "outputs": [],
   "source": [
    "print(\n",
    "    f\"cuda devices: {torch.cuda.device_count()} (current device index: {torch.cuda.current_device()})\"\n",
    ")"
   ]
  },
  {
   "cell_type": "markdown",
   "id": "55243695",
   "metadata": {},
   "source": [
    "現在のGPUについての情報を確認する"
   ]
  },
  {
   "cell_type": "code",
   "execution_count": null,
   "id": "f92e0822",
   "metadata": {},
   "outputs": [],
   "source": [
    "print(f\"current device name: {torch.cuda.get_device_name()}\")\n",
    "print(f\"current device capability: {torch.cuda.get_device_capability()}\")"
   ]
  }
 ],
 "metadata": {
  "jupytext": {
   "formats": "ipynb,py:percent"
  },
  "kernelspec": {
   "display_name": "Python 3 (ipykernel)",
   "language": "python",
   "name": "python3"
  },
  "language_info": {
   "codemirror_mode": {
    "name": "ipython",
    "version": 3
   },
   "file_extension": ".py",
   "mimetype": "text/x-python",
   "name": "python",
   "nbconvert_exporter": "python",
   "pygments_lexer": "ipython3",
   "version": "3.8.10"
  }
 },
 "nbformat": 4,
 "nbformat_minor": 5
}
